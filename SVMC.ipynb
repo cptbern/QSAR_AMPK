{
 "cells": [
  {
   "cell_type": "code",
   "execution_count": 1,
   "metadata": {},
   "outputs": [],
   "source": [
    "import numpy as np\n",
    "import pandas as pd\n",
    "import matplotlib.pyplot as plt\n",
    "%matplotlib inline\n",
    "\n",
    "from sklearn.svm import SVC\n",
    "from sklearn.model_selection import StratifiedKFold\n",
    "from sklearn.model_selection import GridSearchCV\n",
    "from sklearn.model_selection import RandomizedSearchCV\n",
    "from sklearn.model_selection import StratifiedKFold\n",
    "from sklearn.metrics import auc, plot_roc_curve\n",
    "\n",
    "from sklearn.metrics import classification_report, confusion_matrix\n",
    "from sklearn.model_selection import train_test_split\n",
    "from sklearn.model_selection import cross_val_score\n",
    "from sklearn.model_selection import cross_val_predict\n",
    "from sklearn.metrics import classification_report, confusion_matrix, average_precision_score\n",
    "from pprint import pprint\n",
    "from sklearn.preprocessing import StandardScaler\n",
    "scaler = StandardScaler()\n",
    "from sklearn.utils import shuffle\n",
    "\n",
    "df = pd.read_csv(\"Data.csv\", sep=\";\")\n",
    "y = df[\"Target\"]\n",
    "X = df.iloc[:,1:-1]\n",
    "\n",
    "# Standardize data\n",
    "scaler.fit(X)\n",
    "X = scaler.transform(X)\n",
    "\n",
    "X_train, X_test, y_train, y_test = train_test_split(X, \n",
    "                                                    y, test_size=0.30, random_state=1, shuffle=True)\n",
    "X_train_val, X_test_val, y_train_val, y_test_val = train_test_split(X_train, \n",
    "                                         y_train, test_size=0.20, random_state=1, shuffle=True)"
   ]
  },
  {
   "cell_type": "markdown",
   "metadata": {},
   "source": [
    "## Grid search"
   ]
  },
  {
   "cell_type": "code",
   "execution_count": null,
   "metadata": {},
   "outputs": [],
   "source": [
    "svc = SVC(C=10, gamma=\"scale\", kernel=\"rbf\",class_weight=\"balanced\", random_state = 1)\n",
    "print('Parameters currently in use:\\n')\n",
    "pprint(svc.get_params())\n",
    "\n",
    "# Number of features to consider at every split\n",
    "# Create the parameter grid\n",
    "param_grid = {\"kernel\": [\"rbf\"], \n",
    "               \"C\": [2000, 1000, 500, 250, 100, 10, 1], \n",
    "               \"gamma\":[\"scale\", \"auto\"]}\n",
    "\n",
    "pprint(param_grid)\n",
    "\n",
    "scores = [\"accuracy\"]\n",
    "cv = StratifiedKFold(n_splits=5)\n",
    "grid_search = GridSearchCV(estimator=svc, param_grid=param_grid, n_jobs=-1, \n",
    "                           cv=cv, scoring='accuracy',error_score=0)\n",
    "\n",
    "grid_result = grid_search.fit(X_train, y_train)\n",
    "\n",
    "# summarize results\n",
    "print(\"Best: %f using %s\" % (grid_result.best_score_, grid_result.best_params_))\n",
    "means = grid_result.cv_results_['mean_test_score']\n",
    "stds = grid_result.cv_results_['std_test_score']\n",
    "params = grid_result.cv_results_['params']\n",
    "for mean, stdev, param in zip(means, stds, params):\n",
    "    print(\"%f (%f) with: %r\" % (mean, stdev, param))"
   ]
  },
  {
   "cell_type": "markdown",
   "metadata": {},
   "source": [
    "## Test data "
   ]
  },
  {
   "cell_type": "code",
   "execution_count": null,
   "metadata": {},
   "outputs": [],
   "source": [
    "# 0.674512 (0.035359) with: {'C': 10, 'gamma': 'auto', 'kernel': 'rbf'}\n",
    "\n",
    "svc = SVC(C=10, gamma=\"auto\", kernel=\"rbf\",class_weight=\"balanced\",random_state = 1)\n",
    "\n",
    "svc.fit(X_train, y_train)\n",
    "pred = svc.predict(X_test)\n",
    "print(classification_report(y_test,pred,digits=3))\n",
    "print(confusion_matrix(y_test,pred))\n",
    "print(f\"Average precision score {average_precision_score(y_test, pred):.3f} \")"
   ]
  },
  {
   "cell_type": "markdown",
   "metadata": {},
   "source": [
    "## Cross validation"
   ]
  },
  {
   "cell_type": "code",
   "execution_count": null,
   "metadata": {},
   "outputs": [],
   "source": [
    "cv = StratifiedKFold(n_splits=5)\n",
    "svc = SVC(C=10, gamma=\"scale\", kernel=\"rbf\",class_weight=\"balanced\",random_state = 1)\n",
    "\n",
    "tprs = []\n",
    "aucs = []\n",
    "mean_fpr = np.linspace(0, 1, 100)\n",
    "\n",
    "fig, ax = plt.subplots()\n",
    "for i, (train, test) in enumerate(cv.split(X_train, y_train)):\n",
    "    svc.fit(X_train[train], y_train.iloc[train])\n",
    "    viz = plot_roc_curve(svc, X_train[test], y_train.iloc[test],\n",
    "                         name='ROC fold {}'.format(i),\n",
    "                         alpha=0.3, lw=1, ax=ax)\n",
    "    interp_tpr = np.interp(mean_fpr, viz.fpr, viz.tpr)\n",
    "    interp_tpr[0] = 0.0\n",
    "    tprs.append(interp_tpr)\n",
    "    aucs.append(viz.roc_auc)\n",
    "\n",
    "ax.plot([0, 1], [0, 1], linestyle='--', lw=2, color='r',\n",
    "        label='Chance', alpha=.8)\n",
    "\n",
    "mean_tpr = np.mean(tprs, axis=0)\n",
    "mean_tpr[-1] = 1.0\n",
    "mean_auc = auc(mean_fpr, mean_tpr)\n",
    "std_auc = np.std(aucs)\n",
    "ax.plot(mean_fpr, mean_tpr, color='b',\n",
    "        label=r'Mean ROC (AUC = %0.3f $\\pm$ %0.3f)' % (mean_auc, std_auc),\n",
    "        lw=2, alpha=.8)\n",
    "\n",
    "std_tpr = np.std(tprs, axis=0)\n",
    "tprs_upper = np.minimum(mean_tpr + std_tpr, 1)\n",
    "tprs_lower = np.maximum(mean_tpr - std_tpr, 0)\n",
    "ax.fill_between(mean_fpr, tprs_lower, tprs_upper, color='grey', alpha=.2,\n",
    "                label=r'$\\pm$ 1 std. dev.')\n",
    "\n",
    "ax.set(xlim=[-0.05, 1.05], ylim=[-0.05, 1.05],\n",
    "       title=\"b) Receiver operating characteristics: SVM-C\")\n",
    "ax.legend(loc=\"lower right\")\n",
    "plt.savefig(\"SVC.pdf\", dpi=600, transparent=True)\n",
    "plt.savefig(\"SVC.jpg\", dpi=600, transparent=True)\n",
    "plt.show()"
   ]
  },
  {
   "cell_type": "markdown",
   "metadata": {},
   "source": [
    "## Y Randomisierung"
   ]
  },
  {
   "cell_type": "code",
   "execution_count": null,
   "metadata": {},
   "outputs": [],
   "source": [
    "from sklearn.metrics import average_precision_score\n",
    "Accur = []\n",
    "for i in range(1,100):\n",
    "    y_rand = shuffle(y)\n",
    "    X_train, X_test, y_train, y_test = train_test_split(X, \n",
    "                                                    y_rand, test_size=0.30, random_state=1)\n",
    "    svc.fit(X_train, y_train)\n",
    "    pred = svc.predict(X_test)\n",
    "    Accur.append(average_precision_score(y_test, pred))\n",
    "    print(classification_report(y_test,pred,digits=3))\n",
    "    print(confusion_matrix(y_test,pred))\n",
    "print(f\"Mean f1 score = {np.mean(Accur):.3f}, std {np.std(Accur):.3f}\")"
   ]
  }
 ],
 "metadata": {
  "kernelspec": {
   "display_name": "Python 3",
   "language": "python",
   "name": "python3"
  },
  "language_info": {
   "codemirror_mode": {
    "name": "ipython",
    "version": 3
   },
   "file_extension": ".py",
   "mimetype": "text/x-python",
   "name": "python",
   "nbconvert_exporter": "python",
   "pygments_lexer": "ipython3",
   "version": "3.8.5"
  }
 },
 "nbformat": 4,
 "nbformat_minor": 4
}
