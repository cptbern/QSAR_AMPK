{
 "cells": [
  {
   "cell_type": "code",
   "execution_count": 1,
   "metadata": {},
   "outputs": [],
   "source": [
    "import numpy as np\n",
    "import pandas as pd\n",
    "import matplotlib.pyplot as plt\n",
    "%matplotlib inline\n",
    "\n",
    "from sklearn.model_selection import train_test_split\n",
    "from sklearn.preprocessing import StandardScaler\n",
    "scaler = StandardScaler()\n",
    "from sklearn.metrics import auc, plot_roc_curve, average_precision_score\n",
    "from sklearn.model_selection import StratifiedKFold\n",
    "from sklearn.utils import shuffle\n",
    "\n",
    "df = pd.read_csv(\"Data.csv\", sep=\";\")\n",
    "y = df[\"Target\"]\n",
    "X = df.iloc[:,1:-1]\n",
    "\n",
    "# scaler.fit(df)\n",
    "# df_scaled = scaler.transform(df)- RF is used with unstandardized data\n",
    "\n",
    "X_train, X_test, y_train, y_test = train_test_split(X, \n",
    "                                                    y, test_size=0.30, random_state=1, shuffle=True)\n",
    "X_train_val, X_test_val, y_train_val, y_test_val = train_test_split(X_train, \n",
    "                                                                      y_train, test_size=0.2, random_state=1, shuffle=True)"
   ]
  },
  {
   "cell_type": "markdown",
   "metadata": {},
   "source": [
    "# Random Forest"
   ]
  },
  {
   "cell_type": "code",
   "execution_count": 4,
   "metadata": {},
   "outputs": [
    {
     "name": "stdout",
     "output_type": "stream",
     "text": [
      "Parameters currently in use:\n",
      "\n",
      "{'bootstrap': True,\n",
      " 'ccp_alpha': 0.0,\n",
      " 'class_weight': None,\n",
      " 'criterion': 'gini',\n",
      " 'max_depth': None,\n",
      " 'max_features': 'auto',\n",
      " 'max_leaf_nodes': None,\n",
      " 'max_samples': None,\n",
      " 'min_impurity_decrease': 0.0,\n",
      " 'min_impurity_split': None,\n",
      " 'min_samples_leaf': 1,\n",
      " 'min_samples_split': 2,\n",
      " 'min_weight_fraction_leaf': 0.0,\n",
      " 'n_estimators': 100,\n",
      " 'n_jobs': None,\n",
      " 'oob_score': False,\n",
      " 'random_state': 42,\n",
      " 'verbose': 0,\n",
      " 'warm_start': False}\n"
     ]
    }
   ],
   "source": [
    "from sklearn.ensemble import RandomForestClassifier\n",
    "from sklearn.model_selection import GridSearchCV\n",
    "from sklearn.model_selection import RandomizedSearchCV\n",
    "from sklearn.metrics import classification_report, confusion_matrix\n",
    "from pprint import pprint\n",
    "from sklearn.model_selection import train_test_split\n",
    "from sklearn.preprocessing import StandardScaler\n",
    "scaler = StandardScaler()\n",
    "from sklearn.metrics import auc, plot_roc_curve\n",
    "from sklearn.model_selection import StratifiedKFold\n",
    "from sklearn.utils import shuffle\n",
    "rfc = RandomForestClassifier(random_state = 42)\n",
    "print('Parameters currently in use:\\n')\n",
    "pprint(rfc.get_params())"
   ]
  },
  {
   "cell_type": "markdown",
   "metadata": {},
   "source": [
    "## Training"
   ]
  },
  {
   "cell_type": "code",
   "execution_count": null,
   "metadata": {},
   "outputs": [],
   "source": [
    "# Best: 0.910809 using {'bootstrap': False, 'max_depth': 10, 'max_features': 'auto', \n",
    "#                       'min_samples_leaf': 1, 'min_samples_split': 8, 'n_estimators': 200}\n",
    "rfc = RandomForestClassifier(n_estimators = 200, min_samples_split=8, min_samples_leaf=1,\n",
    "                             max_depth=10, bootstrap = False, criterion = \"gini\", max_features=\"auto\")\n",
    "rfc.fit(X_train_val, y_train_val)\n",
    "pred = rfc.predict(X_test_val)\n",
    "print(classification_report(y_test_val,pred, digits=3))\n",
    "print(confusion_matrix(y_test_val,pred))\n",
    "print(f\"Average precision score {average_precision_score(y_test_val, pred):.3f} \")"
   ]
  },
  {
   "cell_type": "markdown",
   "metadata": {},
   "source": [
    "## Test-Data"
   ]
  },
  {
   "cell_type": "code",
   "execution_count": null,
   "metadata": {},
   "outputs": [],
   "source": [
    "# Best: 0.910809 using {'bootstrap': False, 'max_depth': 10, 'max_features': 'auto', \n",
    "#                       'min_samples_leaf': 1, 'min_samples_split': 8, 'n_estimators': 200}\n",
    "rfc = RandomForestClassifier(n_estimators = 200, min_samples_split=8, min_samples_leaf=1,\n",
    "                             max_depth=10, bootstrap = False, criterion = \"gini\", max_features=\"auto\")\n",
    "rfc.fit(X_train, y_train)\n",
    "pred = rfc.predict(X_test)\n",
    "print(classification_report(y_test,pred, digits=3))\n",
    "print(confusion_matrix(y_test,pred))"
   ]
  },
  {
   "cell_type": "markdown",
   "metadata": {},
   "source": [
    "## Cross validation"
   ]
  },
  {
   "cell_type": "code",
   "execution_count": null,
   "metadata": {},
   "outputs": [],
   "source": [
    "cv = StratifiedKFold(n_splits=5)\n",
    "rfc = RandomForestClassifier(n_estimators = 200, min_samples_split=8, max_depth=10, \n",
    "                                    min_samples_leaf=1, \n",
    "                                    bootstrap = False, max_features=\"auto\")\n",
    "\n",
    "tprs = []\n",
    "aucs = []\n",
    "mean_fpr = np.linspace(0, 1, 100)\n",
    "\n",
    "fig, ax = plt.subplots()\n",
    "for i, (train, test) in enumerate(cv.split(X_train, y_train)):\n",
    "    rfc.fit(X_train.iloc[train], y_train.iloc[train])\n",
    "    viz = plot_roc_curve(rfc, X_train.iloc[test], y_train.iloc[test],\n",
    "                         name='ROC fold {}'.format(i),\n",
    "                         alpha=0.3, lw=1, ax=ax)\n",
    "    interp_tpr = np.interp(mean_fpr, viz.fpr, viz.tpr)\n",
    "    interp_tpr[0] = 0.0\n",
    "    tprs.append(interp_tpr)\n",
    "    aucs.append(viz.roc_auc)\n",
    "\n",
    "ax.plot([0, 1], [0, 1], linestyle='--', lw=2, color='r',\n",
    "        label='Chance', alpha=.8)\n",
    "\n",
    "mean_tpr = np.mean(tprs, axis=0)\n",
    "mean_tpr[-1] = 1.0\n",
    "mean_auc = auc(mean_fpr, mean_tpr)\n",
    "std_auc = np.std(aucs)\n",
    "ax.plot(mean_fpr, mean_tpr, color='b',\n",
    "        label=r'Mean ROC (AUC = %0.3f $\\pm$ %0.3f)' % (mean_auc, std_auc),\n",
    "        lw=2, alpha=.8)\n",
    "\n",
    "std_tpr = np.std(tprs, axis=0)\n",
    "tprs_upper = np.minimum(mean_tpr + std_tpr, 1)\n",
    "tprs_lower = np.maximum(mean_tpr - std_tpr, 0)\n",
    "ax.fill_between(mean_fpr, tprs_lower, tprs_upper, color='grey', alpha=.2,\n",
    "                label=r'$\\pm$ 1 std. dev.')\n",
    "\n",
    "ax.set(xlim=[-0.05, 1.05], ylim=[-0.05, 1.05],\n",
    "       title=\"a) Receiver operating characteristics: RFC\")\n",
    "ax.legend(loc=\"lower right\")\n",
    "\n",
    "plt.savefig(\"rfc.pdf\", dpi=600, transparent=True)\n",
    "plt.savefig(\"rfc.jpg\", dpi=600, transparent=True)\n",
    "plt.show()"
   ]
  },
  {
   "cell_type": "markdown",
   "metadata": {},
   "source": [
    "## Y Randomisierung"
   ]
  },
  {
   "cell_type": "code",
   "execution_count": null,
   "metadata": {},
   "outputs": [],
   "source": [
    "from sklearn.metrics import average_precision_score\n",
    "Accur = []\n",
    "for i in range(1,100):\n",
    "    y_rand = shuffle(y)\n",
    "    X_train, X_test, y_train, y_test = train_test_split(X, \n",
    "                                                    y_rand, test_size=0.30, random_state=1)\n",
    "    rfc.fit(X_train, y_train)\n",
    "    pred = rfc.predict(X_test)\n",
    "    Accur.append(average_precision_score(y_test, pred))\n",
    "#     print(classification_report(y_test,pred,digits=3))\n",
    "#     print(confusion_matrix(y_test,pred))\n",
    "print(f\"Mean f1 score = {np.mean(Accur):.3f}, std {np.std(Accur):.3f}\")"
   ]
  },
  {
   "cell_type": "markdown",
   "metadata": {},
   "source": [
    "## Feature importance"
   ]
  },
  {
   "cell_type": "code",
   "execution_count": null,
   "metadata": {},
   "outputs": [],
   "source": [
    "# Best: 0.910809 using {'bootstrap': False, 'max_depth': 10, 'max_features': 'auto', 'min_samples_leaf': 1, 'min_samples_split': 8, 'n_estimators': 200}\n",
    "\n",
    "feature_names = [f'feature {i}' for i in range(X.shape[1])]\n",
    "rfc = RandomForestClassifier(n_estimators = 200, min_samples_split=8, min_samples_leaf=1,\n",
    "                             max_depth=10, bootstrap = False, criterion = \"gini\", max_features=\"auto\")\n",
    "rfc.fit(X_train, y_train)\n",
    "pred = rfc.predict(X_test)\n",
    "\n",
    "importances = rfc.feature_importances_\n",
    "std = np.std([tree.feature_importances_ for tree in rfc.estimators_], axis=0)\n",
    "names = X.columns\n",
    "d_imp = pd.DataFrame({\"Means\": importances, \"STD\": std}, index=names)\n",
    "d_imp = d_imp.iloc[0:9,:]\n",
    "\n",
    "fig, ax = plt.subplots()\n",
    "d_imp.plot.bar(y=\"Means\",yerr=d_imp[\"STD\"], ax=ax)\n",
    "ax.set_title(\"Feature importances using MDI\")\n",
    "ax.set_ylabel(\"Mean decrease in impurity\")\n",
    "fig.tight_layout()\n",
    "fig.show()"
   ]
  },
  {
   "cell_type": "code",
   "execution_count": null,
   "metadata": {},
   "outputs": [],
   "source": []
  }
 ],
 "metadata": {
  "kernelspec": {
   "display_name": "Python 3",
   "language": "python",
   "name": "python3"
  },
  "language_info": {
   "codemirror_mode": {
    "name": "ipython",
    "version": 3
   },
   "file_extension": ".py",
   "mimetype": "text/x-python",
   "name": "python",
   "nbconvert_exporter": "python",
   "pygments_lexer": "ipython3",
   "version": "3.8.5"
  }
 },
 "nbformat": 4,
 "nbformat_minor": 2
}
